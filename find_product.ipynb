{
 "cells": [
  {
   "cell_type": "code",
   "execution_count": 1,
   "id": "1c974a27-e374-4c10-ab37-9dde4f909268",
   "metadata": {},
   "outputs": [
    {
     "name": "stdout",
     "output_type": "stream",
     "text": [
      "689118639831180913138973540352000\n"
     ]
    }
   ],
   "source": [
    "def product_of_numbers(lst):\n",
    "    result = 1\n",
    "    for item in lst:\n",
    "        if type(item) == int:\n",
    "            result *= item\n",
    "        elif type(item) == float:\n",
    "            result *= item\n",
    "        elif type(item) == tuple or type(item) == list:\n",
    "            result *= product_of_numbers(item)\n",
    "        elif type(item) == dict:\n",
    "            for key, value in item.items():\n",
    "                if type(key) in [int, float]:\n",
    "                    result *= key\n",
    "                if type(value) in [int, float]:\n",
    "                    result *= value\n",
    "                elif type(value) in [tuple, list, dict]:\n",
    "                    result *= product_of_numbers(value)\n",
    "    return result\n",
    "\n",
    "list1 = [1, 2, 3, 4, [44, 55, 66, True], False, (34, 56, 78, 89, 34), {1, 2, 3, 3, 2, 1}, {1: 34, \"key2\": [55, 67, 78, 89], 4: (45, 22, 61, 34)}, [56, 'data science'], 'Machine Learning']\n",
    "print(product_of_numbers(list1))\n"
   ]
  },
  {
   "cell_type": "code",
   "execution_count": null,
   "id": "3b6fa5e2-a54e-4164-ba99-76fb658419d6",
   "metadata": {},
   "outputs": [],
   "source": []
  }
 ],
 "metadata": {
  "kernelspec": {
   "display_name": "Python 3 (ipykernel)",
   "language": "python",
   "name": "python3"
  },
  "language_info": {
   "codemirror_mode": {
    "name": "ipython",
    "version": 3
   },
   "file_extension": ".py",
   "mimetype": "text/x-python",
   "name": "python",
   "nbconvert_exporter": "python",
   "pygments_lexer": "ipython3",
   "version": "3.10.8"
  }
 },
 "nbformat": 4,
 "nbformat_minor": 5
}
